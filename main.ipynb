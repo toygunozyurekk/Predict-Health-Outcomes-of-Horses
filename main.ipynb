{
 "cells": [
  {
   "cell_type": "code",
   "execution_count": 1,
   "id": "7c29ea11",
   "metadata": {
    "_cell_guid": "d578cd8c-14db-4581-af07-96a8d1c083ef",
    "_uuid": "df831df0-974c-43dd-8b6c-f0b0506c7c7b",
    "collapsed": false,
    "execution": {
     "iopub.execute_input": "2023-11-16T09:16:57.280528Z",
     "iopub.status.busy": "2023-11-16T09:16:57.280007Z",
     "iopub.status.idle": "2023-11-16T09:17:27.851083Z",
     "shell.execute_reply": "2023-11-16T09:17:27.849616Z"
    },
    "jupyter": {
     "outputs_hidden": false
    },
    "papermill": {
     "duration": 30.589943,
     "end_time": "2023-11-16T09:17:27.860841",
     "exception": false,
     "start_time": "2023-11-16T09:16:57.270898",
     "status": "completed"
    },
    "tags": []
   },
   "outputs": [
    {
     "name": "stdout",
     "output_type": "stream",
     "text": [
      "Requirement already satisfied: pip in /opt/conda/lib/python3.10/site-packages (23.2.1)\r\n",
      "Collecting pip\r\n",
      "  Obtaining dependency information for pip from https://files.pythonhosted.org/packages/47/6a/453160888fab7c6a432a6e25f8afe6256d0d9f2cbd25971021da6491d899/pip-23.3.1-py3-none-any.whl.metadata\r\n",
      "  Downloading pip-23.3.1-py3-none-any.whl.metadata (3.5 kB)\r\n",
      "Downloading pip-23.3.1-py3-none-any.whl (2.1 MB)\r\n",
      "\u001b[2K   \u001b[90m━━━━━━━━━━━━━━━━━━━━━━━━━━━━━━━━━━━━━━━━\u001b[0m \u001b[32m2.1/2.1 MB\u001b[0m \u001b[31m18.9 MB/s\u001b[0m eta \u001b[36m0:00:00\u001b[0m\r\n",
      "\u001b[?25hInstalling collected packages: pip\r\n",
      "  Attempting uninstall: pip\r\n",
      "    Found existing installation: pip 23.2.1\r\n",
      "    Uninstalling pip-23.2.1:\r\n",
      "      Successfully uninstalled pip-23.2.1\r\n",
      "Successfully installed pip-23.3.1\r\n",
      "Note: you may need to restart the kernel to use updated packages.\n"
     ]
    }
   ],
   "source": [
    "pip install --upgrade pip"
   ]
  },
  {
   "cell_type": "code",
   "execution_count": 2,
   "id": "0a324aee",
   "metadata": {
    "_cell_guid": "1936e7d0-e31e-4d08-91ee-f4aff20ced1d",
    "_uuid": "fee355f2-c3c4-4722-8af0-396f885bfcb6",
    "collapsed": false,
    "execution": {
     "iopub.execute_input": "2023-11-16T09:17:27.878160Z",
     "iopub.status.busy": "2023-11-16T09:17:27.877729Z",
     "iopub.status.idle": "2023-11-16T09:17:46.934079Z",
     "shell.execute_reply": "2023-11-16T09:17:46.932569Z"
    },
    "jupyter": {
     "outputs_hidden": false
    },
    "papermill": {
     "duration": 19.068355,
     "end_time": "2023-11-16T09:17:46.936888",
     "exception": false,
     "start_time": "2023-11-16T09:17:27.868533",
     "status": "completed"
    },
    "tags": []
   },
   "outputs": [
    {
     "name": "stdout",
     "output_type": "stream",
     "text": [
      "Requirement already satisfied: scikit-learn in /opt/conda/lib/python3.10/site-packages (1.2.2)\r\n",
      "Collecting scikit-learn\r\n",
      "  Downloading scikit_learn-1.3.2-cp310-cp310-manylinux_2_17_x86_64.manylinux2014_x86_64.whl.metadata (11 kB)\r\n",
      "Requirement already satisfied: numpy<2.0,>=1.17.3 in /opt/conda/lib/python3.10/site-packages (from scikit-learn) (1.24.3)\r\n",
      "Requirement already satisfied: scipy>=1.5.0 in /opt/conda/lib/python3.10/site-packages (from scikit-learn) (1.11.3)\r\n",
      "Requirement already satisfied: joblib>=1.1.1 in /opt/conda/lib/python3.10/site-packages (from scikit-learn) (1.3.2)\r\n",
      "Requirement already satisfied: threadpoolctl>=2.0.0 in /opt/conda/lib/python3.10/site-packages (from scikit-learn) (3.2.0)\r\n",
      "Downloading scikit_learn-1.3.2-cp310-cp310-manylinux_2_17_x86_64.manylinux2014_x86_64.whl (10.8 MB)\r\n",
      "\u001b[2K   \u001b[90m━━━━━━━━━━━━━━━━━━━━━━━━━━━━━━━━━━━━━━━━\u001b[0m \u001b[32m10.8/10.8 MB\u001b[0m \u001b[31m65.7 MB/s\u001b[0m eta \u001b[36m0:00:00\u001b[0m\r\n",
      "\u001b[?25hInstalling collected packages: scikit-learn\r\n",
      "  Attempting uninstall: scikit-learn\r\n",
      "    Found existing installation: scikit-learn 1.2.2\r\n",
      "    Uninstalling scikit-learn-1.2.2:\r\n",
      "      Successfully uninstalled scikit-learn-1.2.2\r\n",
      "Successfully installed scikit-learn-1.3.2\r\n",
      "Note: you may need to restart the kernel to use updated packages.\n"
     ]
    }
   ],
   "source": [
    "pip install -U scikit-learn"
   ]
  },
  {
   "cell_type": "code",
   "execution_count": 3,
   "id": "ecfa7214",
   "metadata": {
    "execution": {
     "iopub.execute_input": "2023-11-16T09:17:46.957431Z",
     "iopub.status.busy": "2023-11-16T09:17:46.956698Z",
     "iopub.status.idle": "2023-11-16T09:17:46.962365Z",
     "shell.execute_reply": "2023-11-16T09:17:46.961222Z"
    },
    "papermill": {
     "duration": 0.018742,
     "end_time": "2023-11-16T09:17:46.964796",
     "exception": false,
     "start_time": "2023-11-16T09:17:46.946054",
     "status": "completed"
    },
    "tags": []
   },
   "outputs": [],
   "source": [
    "#TEAM NAME: HURICANE \n",
    "#SEVKET UMUT GUNDUZ , TOYGUN OZYUREK"
   ]
  },
  {
   "cell_type": "code",
   "execution_count": 4,
   "id": "0888ca6d",
   "metadata": {
    "_cell_guid": "62afb2c1-ffec-4394-81ef-55fccec04a95",
    "_uuid": "8d633a8b-c818-4639-97a2-7815e46ee44e",
    "collapsed": false,
    "execution": {
     "iopub.execute_input": "2023-11-16T09:17:46.984624Z",
     "iopub.status.busy": "2023-11-16T09:17:46.984210Z",
     "iopub.status.idle": "2023-11-16T09:17:49.318424Z",
     "shell.execute_reply": "2023-11-16T09:17:49.317223Z"
    },
    "jupyter": {
     "outputs_hidden": false
    },
    "papermill": {
     "duration": 2.347151,
     "end_time": "2023-11-16T09:17:49.321041",
     "exception": false,
     "start_time": "2023-11-16T09:17:46.973890",
     "status": "completed"
    },
    "tags": []
   },
   "outputs": [],
   "source": [
    "# IMPORT LIBRARIES \n",
    "import pandas as pd \n",
    "import numpy as np \n",
    "import seaborn as sns\n",
    "import matplotlib.pyplot as plt \n",
    "from sklearn.decomposition import PCA\n",
    "from sklearn.preprocessing import LabelEncoder\n",
    "from sklearn.neighbors import KNeighborsClassifier\n",
    "from sklearn.model_selection import train_test_split\n",
    "from sklearn.metrics import accuracy_score, classification_report, confusion_matrix\n",
    "from sklearn.preprocessing import StandardScaler"
   ]
  },
  {
   "cell_type": "code",
   "execution_count": 5,
   "id": "39cc29fa",
   "metadata": {
    "_cell_guid": "3443a0b4-462d-4571-aa6e-ca44419c1762",
    "_uuid": "86ec6b91-57ae-46e3-a3f4-259d99573914",
    "collapsed": false,
    "execution": {
     "iopub.execute_input": "2023-11-16T09:17:49.341408Z",
     "iopub.status.busy": "2023-11-16T09:17:49.340818Z",
     "iopub.status.idle": "2023-11-16T09:17:49.388260Z",
     "shell.execute_reply": "2023-11-16T09:17:49.387078Z"
    },
    "jupyter": {
     "outputs_hidden": false
    },
    "papermill": {
     "duration": 0.060873,
     "end_time": "2023-11-16T09:17:49.391256",
     "exception": false,
     "start_time": "2023-11-16T09:17:49.330383",
     "status": "completed"
    },
    "tags": []
   },
   "outputs": [],
   "source": [
    "# READ CSV FILES \n",
    "test = pd.read_csv('/kaggle/input/cmp4336-task-0/test.csv')\n",
    "train = pd.read_csv('/kaggle/input/cmp4336-task-0/train.csv')"
   ]
  },
  {
   "cell_type": "code",
   "execution_count": 6,
   "id": "0e5a2015",
   "metadata": {
    "_cell_guid": "57421e3a-3486-40b1-8347-b7bad9f71009",
    "_uuid": "ee313e1d-3391-4515-b408-463dc05a5514",
    "collapsed": false,
    "execution": {
     "iopub.execute_input": "2023-11-16T09:17:49.411422Z",
     "iopub.status.busy": "2023-11-16T09:17:49.410980Z",
     "iopub.status.idle": "2023-11-16T09:17:49.458264Z",
     "shell.execute_reply": "2023-11-16T09:17:49.457076Z"
    },
    "jupyter": {
     "outputs_hidden": false
    },
    "papermill": {
     "duration": 0.060454,
     "end_time": "2023-11-16T09:17:49.460934",
     "exception": false,
     "start_time": "2023-11-16T09:17:49.400480",
     "status": "completed"
    },
    "tags": []
   },
   "outputs": [
    {
     "data": {
      "text/html": [
       "<div>\n",
       "<style scoped>\n",
       "    .dataframe tbody tr th:only-of-type {\n",
       "        vertical-align: middle;\n",
       "    }\n",
       "\n",
       "    .dataframe tbody tr th {\n",
       "        vertical-align: top;\n",
       "    }\n",
       "\n",
       "    .dataframe thead th {\n",
       "        text-align: right;\n",
       "    }\n",
       "</style>\n",
       "<table border=\"1\" class=\"dataframe\">\n",
       "  <thead>\n",
       "    <tr style=\"text-align: right;\">\n",
       "      <th></th>\n",
       "      <th>id</th>\n",
       "      <th>surgery</th>\n",
       "      <th>age</th>\n",
       "      <th>hospital_number</th>\n",
       "      <th>rectal_temp</th>\n",
       "      <th>pulse</th>\n",
       "      <th>respiratory_rate</th>\n",
       "      <th>temp_of_extremities</th>\n",
       "      <th>peripheral_pulse</th>\n",
       "      <th>mucous_membrane</th>\n",
       "      <th>...</th>\n",
       "      <th>abdomen</th>\n",
       "      <th>packed_cell_volume</th>\n",
       "      <th>total_protein</th>\n",
       "      <th>abdomo_appearance</th>\n",
       "      <th>abdomo_protein</th>\n",
       "      <th>surgical_lesion</th>\n",
       "      <th>lesion_1</th>\n",
       "      <th>lesion_2</th>\n",
       "      <th>lesion_3</th>\n",
       "      <th>cp_data</th>\n",
       "    </tr>\n",
       "  </thead>\n",
       "  <tbody>\n",
       "    <tr>\n",
       "      <th>0</th>\n",
       "      <td>1235</td>\n",
       "      <td>no</td>\n",
       "      <td>adult</td>\n",
       "      <td>534053</td>\n",
       "      <td>38.6</td>\n",
       "      <td>40.0</td>\n",
       "      <td>20.0</td>\n",
       "      <td>normal</td>\n",
       "      <td>normal</td>\n",
       "      <td>normal_pink</td>\n",
       "      <td>...</td>\n",
       "      <td>distend_small</td>\n",
       "      <td>42.0</td>\n",
       "      <td>7.5</td>\n",
       "      <td>clear</td>\n",
       "      <td>2.3</td>\n",
       "      <td>no</td>\n",
       "      <td>0</td>\n",
       "      <td>0</td>\n",
       "      <td>0</td>\n",
       "      <td>no</td>\n",
       "    </tr>\n",
       "    <tr>\n",
       "      <th>1</th>\n",
       "      <td>1236</td>\n",
       "      <td>yes</td>\n",
       "      <td>adult</td>\n",
       "      <td>528469</td>\n",
       "      <td>38.2</td>\n",
       "      <td>112.0</td>\n",
       "      <td>48.0</td>\n",
       "      <td>cool</td>\n",
       "      <td>reduced</td>\n",
       "      <td>bright_pink</td>\n",
       "      <td>...</td>\n",
       "      <td>distend_small</td>\n",
       "      <td>44.0</td>\n",
       "      <td>6.0</td>\n",
       "      <td>serosanguious</td>\n",
       "      <td>2.6</td>\n",
       "      <td>no</td>\n",
       "      <td>2208</td>\n",
       "      <td>0</td>\n",
       "      <td>0</td>\n",
       "      <td>yes</td>\n",
       "    </tr>\n",
       "    <tr>\n",
       "      <th>2</th>\n",
       "      <td>1237</td>\n",
       "      <td>yes</td>\n",
       "      <td>adult</td>\n",
       "      <td>528178</td>\n",
       "      <td>37.7</td>\n",
       "      <td>66.0</td>\n",
       "      <td>12.0</td>\n",
       "      <td>cool</td>\n",
       "      <td>normal</td>\n",
       "      <td>bright_red</td>\n",
       "      <td>...</td>\n",
       "      <td>distend_small</td>\n",
       "      <td>31.5</td>\n",
       "      <td>6.0</td>\n",
       "      <td>cloudy</td>\n",
       "      <td>1.6</td>\n",
       "      <td>yes</td>\n",
       "      <td>2205</td>\n",
       "      <td>0</td>\n",
       "      <td>0</td>\n",
       "      <td>yes</td>\n",
       "    </tr>\n",
       "    <tr>\n",
       "      <th>3</th>\n",
       "      <td>1238</td>\n",
       "      <td>no</td>\n",
       "      <td>adult</td>\n",
       "      <td>534784</td>\n",
       "      <td>37.1</td>\n",
       "      <td>88.0</td>\n",
       "      <td>20.0</td>\n",
       "      <td>cool</td>\n",
       "      <td>reduced</td>\n",
       "      <td>pale_cyanotic</td>\n",
       "      <td>...</td>\n",
       "      <td>distend_large</td>\n",
       "      <td>75.0</td>\n",
       "      <td>81.0</td>\n",
       "      <td>NaN</td>\n",
       "      <td>1.0</td>\n",
       "      <td>yes</td>\n",
       "      <td>1400</td>\n",
       "      <td>0</td>\n",
       "      <td>0</td>\n",
       "      <td>no</td>\n",
       "    </tr>\n",
       "    <tr>\n",
       "      <th>4</th>\n",
       "      <td>1239</td>\n",
       "      <td>yes</td>\n",
       "      <td>adult</td>\n",
       "      <td>529840</td>\n",
       "      <td>38.3</td>\n",
       "      <td>50.0</td>\n",
       "      <td>12.0</td>\n",
       "      <td>NaN</td>\n",
       "      <td>normal</td>\n",
       "      <td>bright_pink</td>\n",
       "      <td>...</td>\n",
       "      <td>distend_small</td>\n",
       "      <td>37.0</td>\n",
       "      <td>6.8</td>\n",
       "      <td>cloudy</td>\n",
       "      <td>2.6</td>\n",
       "      <td>yes</td>\n",
       "      <td>2208</td>\n",
       "      <td>0</td>\n",
       "      <td>0</td>\n",
       "      <td>yes</td>\n",
       "    </tr>\n",
       "  </tbody>\n",
       "</table>\n",
       "<p>5 rows × 28 columns</p>\n",
       "</div>"
      ],
      "text/plain": [
       "     id surgery    age  hospital_number  rectal_temp  pulse  respiratory_rate  \\\n",
       "0  1235      no  adult           534053         38.6   40.0              20.0   \n",
       "1  1236     yes  adult           528469         38.2  112.0              48.0   \n",
       "2  1237     yes  adult           528178         37.7   66.0              12.0   \n",
       "3  1238      no  adult           534784         37.1   88.0              20.0   \n",
       "4  1239     yes  adult           529840         38.3   50.0              12.0   \n",
       "\n",
       "  temp_of_extremities peripheral_pulse mucous_membrane  ...        abdomen  \\\n",
       "0              normal           normal     normal_pink  ...  distend_small   \n",
       "1                cool          reduced     bright_pink  ...  distend_small   \n",
       "2                cool           normal      bright_red  ...  distend_small   \n",
       "3                cool          reduced   pale_cyanotic  ...  distend_large   \n",
       "4                 NaN           normal     bright_pink  ...  distend_small   \n",
       "\n",
       "  packed_cell_volume total_protein abdomo_appearance abdomo_protein  \\\n",
       "0               42.0           7.5             clear            2.3   \n",
       "1               44.0           6.0     serosanguious            2.6   \n",
       "2               31.5           6.0            cloudy            1.6   \n",
       "3               75.0          81.0               NaN            1.0   \n",
       "4               37.0           6.8            cloudy            2.6   \n",
       "\n",
       "  surgical_lesion  lesion_1 lesion_2 lesion_3  cp_data  \n",
       "0              no         0        0        0       no  \n",
       "1              no      2208        0        0      yes  \n",
       "2             yes      2205        0        0      yes  \n",
       "3             yes      1400        0        0       no  \n",
       "4             yes      2208        0        0      yes  \n",
       "\n",
       "[5 rows x 28 columns]"
      ]
     },
     "execution_count": 6,
     "metadata": {},
     "output_type": "execute_result"
    }
   ],
   "source": [
    "test.head()"
   ]
  },
  {
   "cell_type": "code",
   "execution_count": 7,
   "id": "61c2478e",
   "metadata": {
    "_cell_guid": "90dce2cc-acb2-4a20-b307-ce305349f71b",
    "_uuid": "ff53a67e-482f-4d1d-ba7d-cbce8accd356",
    "collapsed": false,
    "execution": {
     "iopub.execute_input": "2023-11-16T09:17:49.481901Z",
     "iopub.status.busy": "2023-11-16T09:17:49.481443Z",
     "iopub.status.idle": "2023-11-16T09:17:49.491013Z",
     "shell.execute_reply": "2023-11-16T09:17:49.489999Z"
    },
    "jupyter": {
     "outputs_hidden": false
    },
    "papermill": {
     "duration": 0.022892,
     "end_time": "2023-11-16T09:17:49.493431",
     "exception": false,
     "start_time": "2023-11-16T09:17:49.470539",
     "status": "completed"
    },
    "tags": []
   },
   "outputs": [],
   "source": [
    "def binary_encode(df, columns, positive_values):\n",
    "    df = df.copy()\n",
    "    for column, positive_value in zip(columns, positive_values):\n",
    "        df[column] = df[column].apply(lambda x: 1 if x == positive_value else 0)\n",
    "    return df \n",
    "\n",
    "def ordinal_encode(df, columns, orderings):\n",
    "    df = df.copy()\n",
    "    for column, ordering in zip(columns, orderings):\n",
    "        df[column] = df[column].apply(lambda x: ordering.index(x) if x in ordering else -1)\n",
    "    return df \n",
    "\n",
    "def label_encode(df, columns):\n",
    "    df = df.copy()\n",
    "    label_encoder = LabelEncoder()\n",
    "    for column in columns:\n",
    "        df[column] = label_encoder.fit_transform(df[column])\n",
    "    return df"
   ]
  },
  {
   "cell_type": "code",
   "execution_count": 8,
   "id": "957d9c86",
   "metadata": {
    "_cell_guid": "995c64e3-41d1-4df7-a13a-7deabb4407b4",
    "_uuid": "c7c5e9ae-9c32-46e5-8ccf-6898c2506d24",
    "collapsed": false,
    "execution": {
     "iopub.execute_input": "2023-11-16T09:17:49.514731Z",
     "iopub.status.busy": "2023-11-16T09:17:49.514320Z",
     "iopub.status.idle": "2023-11-16T09:17:49.544072Z",
     "shell.execute_reply": "2023-11-16T09:17:49.542923Z"
    },
    "jupyter": {
     "outputs_hidden": false
    },
    "papermill": {
     "duration": 0.043637,
     "end_time": "2023-11-16T09:17:49.546843",
     "exception": false,
     "start_time": "2023-11-16T09:17:49.503206",
     "status": "completed"
    },
    "tags": []
   },
   "outputs": [
    {
     "data": {
      "text/html": [
       "<div>\n",
       "<style scoped>\n",
       "    .dataframe tbody tr th:only-of-type {\n",
       "        vertical-align: middle;\n",
       "    }\n",
       "\n",
       "    .dataframe tbody tr th {\n",
       "        vertical-align: top;\n",
       "    }\n",
       "\n",
       "    .dataframe thead th {\n",
       "        text-align: right;\n",
       "    }\n",
       "</style>\n",
       "<table border=\"1\" class=\"dataframe\">\n",
       "  <thead>\n",
       "    <tr style=\"text-align: right;\">\n",
       "      <th></th>\n",
       "      <th>id</th>\n",
       "      <th>surgery</th>\n",
       "      <th>age</th>\n",
       "      <th>hospital_number</th>\n",
       "      <th>rectal_temp</th>\n",
       "      <th>pulse</th>\n",
       "      <th>respiratory_rate</th>\n",
       "      <th>temp_of_extremities</th>\n",
       "      <th>peripheral_pulse</th>\n",
       "      <th>mucous_membrane</th>\n",
       "      <th>...</th>\n",
       "      <th>abdomen</th>\n",
       "      <th>packed_cell_volume</th>\n",
       "      <th>total_protein</th>\n",
       "      <th>abdomo_appearance</th>\n",
       "      <th>abdomo_protein</th>\n",
       "      <th>surgical_lesion</th>\n",
       "      <th>lesion_1</th>\n",
       "      <th>lesion_2</th>\n",
       "      <th>lesion_3</th>\n",
       "      <th>cp_data</th>\n",
       "    </tr>\n",
       "  </thead>\n",
       "  <tbody>\n",
       "    <tr>\n",
       "      <th>0</th>\n",
       "      <td>1235</td>\n",
       "      <td>no</td>\n",
       "      <td>adult</td>\n",
       "      <td>534053</td>\n",
       "      <td>38.6</td>\n",
       "      <td>40.0</td>\n",
       "      <td>20.0</td>\n",
       "      <td>normal</td>\n",
       "      <td>normal</td>\n",
       "      <td>normal_pink</td>\n",
       "      <td>...</td>\n",
       "      <td>distend_small</td>\n",
       "      <td>42.0</td>\n",
       "      <td>7.5</td>\n",
       "      <td>clear</td>\n",
       "      <td>2.3</td>\n",
       "      <td>no</td>\n",
       "      <td>0</td>\n",
       "      <td>0</td>\n",
       "      <td>0</td>\n",
       "      <td>no</td>\n",
       "    </tr>\n",
       "    <tr>\n",
       "      <th>1</th>\n",
       "      <td>1236</td>\n",
       "      <td>yes</td>\n",
       "      <td>adult</td>\n",
       "      <td>528469</td>\n",
       "      <td>38.2</td>\n",
       "      <td>112.0</td>\n",
       "      <td>48.0</td>\n",
       "      <td>cool</td>\n",
       "      <td>reduced</td>\n",
       "      <td>bright_pink</td>\n",
       "      <td>...</td>\n",
       "      <td>distend_small</td>\n",
       "      <td>44.0</td>\n",
       "      <td>6.0</td>\n",
       "      <td>serosanguious</td>\n",
       "      <td>2.6</td>\n",
       "      <td>no</td>\n",
       "      <td>2208</td>\n",
       "      <td>0</td>\n",
       "      <td>0</td>\n",
       "      <td>yes</td>\n",
       "    </tr>\n",
       "    <tr>\n",
       "      <th>2</th>\n",
       "      <td>1237</td>\n",
       "      <td>yes</td>\n",
       "      <td>adult</td>\n",
       "      <td>528178</td>\n",
       "      <td>37.7</td>\n",
       "      <td>66.0</td>\n",
       "      <td>12.0</td>\n",
       "      <td>cool</td>\n",
       "      <td>normal</td>\n",
       "      <td>bright_red</td>\n",
       "      <td>...</td>\n",
       "      <td>distend_small</td>\n",
       "      <td>31.5</td>\n",
       "      <td>6.0</td>\n",
       "      <td>cloudy</td>\n",
       "      <td>1.6</td>\n",
       "      <td>yes</td>\n",
       "      <td>2205</td>\n",
       "      <td>0</td>\n",
       "      <td>0</td>\n",
       "      <td>yes</td>\n",
       "    </tr>\n",
       "    <tr>\n",
       "      <th>3</th>\n",
       "      <td>1238</td>\n",
       "      <td>no</td>\n",
       "      <td>adult</td>\n",
       "      <td>534784</td>\n",
       "      <td>37.1</td>\n",
       "      <td>88.0</td>\n",
       "      <td>20.0</td>\n",
       "      <td>cool</td>\n",
       "      <td>reduced</td>\n",
       "      <td>pale_cyanotic</td>\n",
       "      <td>...</td>\n",
       "      <td>distend_large</td>\n",
       "      <td>75.0</td>\n",
       "      <td>81.0</td>\n",
       "      <td>NaN</td>\n",
       "      <td>1.0</td>\n",
       "      <td>yes</td>\n",
       "      <td>1400</td>\n",
       "      <td>0</td>\n",
       "      <td>0</td>\n",
       "      <td>no</td>\n",
       "    </tr>\n",
       "    <tr>\n",
       "      <th>4</th>\n",
       "      <td>1239</td>\n",
       "      <td>yes</td>\n",
       "      <td>adult</td>\n",
       "      <td>529840</td>\n",
       "      <td>38.3</td>\n",
       "      <td>50.0</td>\n",
       "      <td>12.0</td>\n",
       "      <td>NaN</td>\n",
       "      <td>normal</td>\n",
       "      <td>bright_pink</td>\n",
       "      <td>...</td>\n",
       "      <td>distend_small</td>\n",
       "      <td>37.0</td>\n",
       "      <td>6.8</td>\n",
       "      <td>cloudy</td>\n",
       "      <td>2.6</td>\n",
       "      <td>yes</td>\n",
       "      <td>2208</td>\n",
       "      <td>0</td>\n",
       "      <td>0</td>\n",
       "      <td>yes</td>\n",
       "    </tr>\n",
       "  </tbody>\n",
       "</table>\n",
       "<p>5 rows × 28 columns</p>\n",
       "</div>"
      ],
      "text/plain": [
       "     id surgery    age  hospital_number  rectal_temp  pulse  respiratory_rate  \\\n",
       "0  1235      no  adult           534053         38.6   40.0              20.0   \n",
       "1  1236     yes  adult           528469         38.2  112.0              48.0   \n",
       "2  1237     yes  adult           528178         37.7   66.0              12.0   \n",
       "3  1238      no  adult           534784         37.1   88.0              20.0   \n",
       "4  1239     yes  adult           529840         38.3   50.0              12.0   \n",
       "\n",
       "  temp_of_extremities peripheral_pulse mucous_membrane  ...        abdomen  \\\n",
       "0              normal           normal     normal_pink  ...  distend_small   \n",
       "1                cool          reduced     bright_pink  ...  distend_small   \n",
       "2                cool           normal      bright_red  ...  distend_small   \n",
       "3                cool          reduced   pale_cyanotic  ...  distend_large   \n",
       "4                 NaN           normal     bright_pink  ...  distend_small   \n",
       "\n",
       "  packed_cell_volume total_protein abdomo_appearance abdomo_protein  \\\n",
       "0               42.0           7.5             clear            2.3   \n",
       "1               44.0           6.0     serosanguious            2.6   \n",
       "2               31.5           6.0            cloudy            1.6   \n",
       "3               75.0          81.0               NaN            1.0   \n",
       "4               37.0           6.8            cloudy            2.6   \n",
       "\n",
       "  surgical_lesion  lesion_1 lesion_2 lesion_3  cp_data  \n",
       "0              no         0        0        0       no  \n",
       "1              no      2208        0        0      yes  \n",
       "2             yes      2205        0        0      yes  \n",
       "3             yes      1400        0        0       no  \n",
       "4             yes      2208        0        0      yes  \n",
       "\n",
       "[5 rows x 28 columns]"
      ]
     },
     "execution_count": 8,
     "metadata": {},
     "output_type": "execute_result"
    }
   ],
   "source": [
    "test.head()"
   ]
  },
  {
   "cell_type": "code",
   "execution_count": 9,
   "id": "82311a44",
   "metadata": {
    "_cell_guid": "9c7bd191-0385-4fc4-a18a-050f754ecbca",
    "_uuid": "ff497c2a-8b2c-421e-8235-3d7af2cf969d",
    "collapsed": false,
    "execution": {
     "iopub.execute_input": "2023-11-16T09:17:49.569862Z",
     "iopub.status.busy": "2023-11-16T09:17:49.569405Z",
     "iopub.status.idle": "2023-11-16T09:17:49.593601Z",
     "shell.execute_reply": "2023-11-16T09:17:49.592432Z"
    },
    "jupyter": {
     "outputs_hidden": false
    },
    "papermill": {
     "duration": 0.039347,
     "end_time": "2023-11-16T09:17:49.596664",
     "exception": false,
     "start_time": "2023-11-16T09:17:49.557317",
     "status": "completed"
    },
    "tags": []
   },
   "outputs": [],
   "source": [
    "def preprocess_inputs(train, test=None, pca_components=None):\n",
    "    df = pd.concat([train, test], ignore_index=True) if test is not None else train.copy()\n",
    "\n",
    "    # Categorize features\n",
    "    binary_features = ['surgery', 'age', 'surgical_lesion', 'cp_data']\n",
    "    positive_values = ['yes', 'adult', 'yes', 'yes']\n",
    "\n",
    "    ordinal_features = ['temp_of_extremities', 'peripheral_pulse', 'capillary_refill_time', 'pain', 'peristalsis', 'abdominal_distention', 'nasogastric_tube', 'nasogastric_reflux', 'rectal_exam_feces']\n",
    "    orderings = [\n",
    "        ['cold', 'cool', 'normal', 'warm'],\n",
    "        ['absent', 'reduced', 'normal', 'increased'],\n",
    "        ['less_3_sec', '3', 'more_3_sec'],\n",
    "        ['mild_pain', 'depressed', 'extreme_pain', 'severe_pain', 'alert', 'slight'],\n",
    "        ['hypomotile', 'absent', 'hypermotile', 'normal', 'distend_small', 'moderate'],  # Added 'moderate'\n",
    "        ['none', 'slight', 'moderate', '', 'severe'],\n",
    "        ['none', 'slight', 'significant'],\n",
    "        ['none', 'less_1_liter', 'more_1_liter', 'slight'],\n",
    "        ['normal', 'decreased', 'absent', 'increased', 'serosanguious']\n",
    "    ]\n",
    "\n",
    "    nominal_features = ['hospital_number', 'mucous_membrane', 'abdomen', 'abdomo_appearance']\n",
    "    \n",
    "    for column in df.columns:\n",
    "        if column in df.select_dtypes('object').columns:\n",
    "            if column not in nominal_features:\n",
    "                df[column] = df[column].fillna(df[column].mode()[0])\n",
    "        else:\n",
    "            df[column] = df[column].fillna(df[column].mean())\n",
    "\n",
    "    # Encode categorical feature columns\n",
    "    df = binary_encode(df, columns=binary_features, positive_values=positive_values)\n",
    "    df = ordinal_encode(df, columns=ordinal_features, orderings=orderings)\n",
    "    df = label_encode(df, columns=nominal_features)\n",
    "\n",
    "    # Separate the combined dataset back into train and test\n",
    "    if test is not None:\n",
    "        train = df.iloc[:len(train)]\n",
    "        test = df.iloc[len(train):].reset_index(drop=True)\n",
    "\n",
    "    # Encode labels\n",
    "    if 'outcome' in df.columns:\n",
    "        label_mapping = {'lived': 0, 'died': 1, 'euthanized': 2}\n",
    "        df['outcome'] = df['outcome'].replace(label_mapping)\n",
    "\n",
    "        y = df['outcome'].copy()\n",
    "        X = df.drop('outcome', axis=1).copy()\n",
    "\n",
    "        # Standardize features using StandardScaler\n",
    "        scaler = StandardScaler()\n",
    "        X = pd.DataFrame(scaler.fit_transform(X), columns=X.columns)\n",
    "        \n",
    "        if pca_components:\n",
    "            pca = PCA(n_components=pca_components)\n",
    "            X_pca = pd.DataFrame(pca.fit_transform(X), columns=[f'pca_{i+1}' for i in range(pca_components)])\n",
    "            X = pd.concat([X, X_pca], axis=1)\n",
    "\n",
    "        if test is not None:\n",
    "            # Apply the same transformation to the test set\n",
    "            test = pd.DataFrame(scaler.transform(test), columns=test.columns)\n",
    "            if pca_components:\n",
    "                test_pca = pd.DataFrame(pca.transform(test), columns=[f'pca_{i+1}' for i in range(pca_components)])\n",
    "                test = pd.concat([test, test_pca], axis=1)\n",
    "\n",
    "            return X, y, test\n",
    "        else:\n",
    "            return X, y\n",
    "    else:\n",
    "        # Standardize features using StandardScaler\n",
    "        scaler = StandardScaler()\n",
    "        X = pd.DataFrame(scaler.fit_transform(df), columns=df.columns)\n",
    "\n",
    "        # Apply PCA if specified\n",
    "        if pca_components:\n",
    "            pca = PCA(n_components=pca_components)\n",
    "            X_pca = pd.DataFrame(pca.fit_transform(X), columns=[f'pca_{i+1}' for i in range(pca_components)])\n",
    "            X = pd.concat([X, X_pca], axis=1)\n",
    "\n",
    "        if test is not None:\n",
    "            # Apply the same transformation to the test set\n",
    "            test = pd.DataFrame(scaler.transform(test), columns=test.columns)\n",
    "            if pca_components:\n",
    "                test_pca = pd.DataFrame(pca.transform(test), columns=[f'pca_{i+1}' for i in range(pca_components)])\n",
    "                test = pd.concat([test, test_pca], axis=1)\n",
    "\n",
    "            return X, test\n",
    "        else:\n",
    "            return X"
   ]
  },
  {
   "cell_type": "code",
   "execution_count": 10,
   "id": "205481e7",
   "metadata": {
    "_cell_guid": "863fb293-474e-4db6-8a24-ed5295be39ff",
    "_uuid": "28ed61d4-4e3c-4979-89f6-585ad82cea7b",
    "collapsed": false,
    "execution": {
     "iopub.execute_input": "2023-11-16T09:17:49.618635Z",
     "iopub.status.busy": "2023-11-16T09:17:49.618234Z",
     "iopub.status.idle": "2023-11-16T09:17:49.755898Z",
     "shell.execute_reply": "2023-11-16T09:17:49.754235Z"
    },
    "jupyter": {
     "outputs_hidden": false
    },
    "papermill": {
     "duration": 0.153621,
     "end_time": "2023-11-16T09:17:49.760452",
     "exception": false,
     "start_time": "2023-11-16T09:17:49.606831",
     "status": "completed"
    },
    "tags": []
   },
   "outputs": [],
   "source": [
    "X, y = preprocess_inputs(train, pca_components=15)"
   ]
  },
  {
   "cell_type": "code",
   "execution_count": 11,
   "id": "57eb5aa6",
   "metadata": {
    "_cell_guid": "b76307d4-71ec-499a-92ea-805e2959a1a0",
    "_uuid": "8af489fd-a858-4c36-a851-2497848c3b3f",
    "collapsed": false,
    "execution": {
     "iopub.execute_input": "2023-11-16T09:17:49.834703Z",
     "iopub.status.busy": "2023-11-16T09:17:49.834066Z",
     "iopub.status.idle": "2023-11-16T09:17:49.871341Z",
     "shell.execute_reply": "2023-11-16T09:17:49.869825Z"
    },
    "jupyter": {
     "outputs_hidden": false
    },
    "papermill": {
     "duration": 0.081769,
     "end_time": "2023-11-16T09:17:49.873935",
     "exception": false,
     "start_time": "2023-11-16T09:17:49.792166",
     "status": "completed"
    },
    "tags": []
   },
   "outputs": [],
   "source": [
    "X_train, X_test, y_train, y_test = train_test_split(X, y, test_size=0.2, random_state=42)\n",
    "scaler = StandardScaler()\n",
    "X_train_scaled = scaler.fit_transform(X_train)\n",
    "X_test_scaled = scaler.transform(X_test)"
   ]
  },
  {
   "cell_type": "code",
   "execution_count": 12,
   "id": "0b7325c9",
   "metadata": {
    "_cell_guid": "a5158ec2-b344-49c6-8336-838720074153",
    "_uuid": "130ade29-defe-44fa-ac5d-4e24caab5e42",
    "collapsed": false,
    "execution": {
     "iopub.execute_input": "2023-11-16T09:17:49.896339Z",
     "iopub.status.busy": "2023-11-16T09:17:49.895615Z",
     "iopub.status.idle": "2023-11-16T09:17:50.026025Z",
     "shell.execute_reply": "2023-11-16T09:17:50.024768Z"
    },
    "jupyter": {
     "outputs_hidden": false
    },
    "papermill": {
     "duration": 0.144518,
     "end_time": "2023-11-16T09:17:50.028499",
     "exception": false,
     "start_time": "2023-11-16T09:17:49.883981",
     "status": "completed"
    },
    "tags": []
   },
   "outputs": [
    {
     "name": "stdout",
     "output_type": "stream",
     "text": [
      "Accuracy for k=3: 0.58\n",
      "Accuracy for k=5: 0.62\n",
      "Accuracy for k=60: 0.69\n"
     ]
    }
   ],
   "source": [
    "k_values = [3, 5, 60]\n",
    "for k in k_values:\n",
    "    knn = KNeighborsClassifier(n_neighbors=k)\n",
    "    knn.fit(X_train_scaled, y_train)\n",
    "    y_pred = knn.predict(X_test_scaled)\n",
    "    accuracy = accuracy_score(y_test, y_pred)\n",
    "    print(f'Accuracy for k={k}: {accuracy:.2f}')"
   ]
  },
  {
   "cell_type": "code",
   "execution_count": 13,
   "id": "e5bc34ac",
   "metadata": {
    "_cell_guid": "d0618bab-15ba-4ed9-9280-bd2a5155020f",
    "_uuid": "6a1917ee-262f-4440-82dc-fe1dc048b16e",
    "collapsed": false,
    "execution": {
     "iopub.execute_input": "2023-11-16T09:17:50.051172Z",
     "iopub.status.busy": "2023-11-16T09:17:50.050703Z",
     "iopub.status.idle": "2023-11-16T09:17:50.376477Z",
     "shell.execute_reply": "2023-11-16T09:17:50.375590Z"
    },
    "jupyter": {
     "outputs_hidden": false
    },
    "papermill": {
     "duration": 0.34039,
     "end_time": "2023-11-16T09:17:50.379047",
     "exception": false,
     "start_time": "2023-11-16T09:17:50.038657",
     "status": "completed"
    },
    "tags": []
   },
   "outputs": [],
   "source": [
    "# Assuming you have the preprocess_inputs function and test dataset\n",
    "test_processed = preprocess_inputs(test, pca_components=15)\n",
    "\n",
    "# Standardize features using the same scaler used for training data\n",
    "X_test_scaled = scaler.transform(test_processed)\n",
    "\n",
    "best_k = 60 # Replace with the best value of k from the previous step\n",
    "knn = KNeighborsClassifier(n_neighbors=best_k)\n",
    "knn.fit(X_train_scaled, y_train)\n",
    "y_pred = knn.predict(X_test_scaled)\n",
    "\n",
    "\n",
    "# Map numerical labels back to class names if necessary\n",
    "label_mapping_reverse = {0: 'lived', 1: 'died', 2: 'euthanized'}\n",
    "y_pred_names = [label_mapping_reverse[label] for label in y_pred]"
   ]
  },
  {
   "cell_type": "code",
   "execution_count": 14,
   "id": "5b50886c",
   "metadata": {
    "_cell_guid": "0c92290c-4c02-40a6-8c23-6424946df230",
    "_uuid": "bb9e016a-ba99-4d8f-b692-b9c6ab957268",
    "collapsed": false,
    "execution": {
     "iopub.execute_input": "2023-11-16T09:17:50.401452Z",
     "iopub.status.busy": "2023-11-16T09:17:50.400659Z",
     "iopub.status.idle": "2023-11-16T09:17:50.416866Z",
     "shell.execute_reply": "2023-11-16T09:17:50.415816Z"
    },
    "jupyter": {
     "outputs_hidden": false
    },
    "papermill": {
     "duration": 0.030887,
     "end_time": "2023-11-16T09:17:50.419964",
     "exception": false,
     "start_time": "2023-11-16T09:17:50.389077",
     "status": "completed"
    },
    "tags": []
   },
   "outputs": [
    {
     "name": "stdout",
     "output_type": "stream",
     "text": [
      "         outcome\n",
      "id              \n",
      "1235       lived\n",
      "1236        died\n",
      "1237       lived\n",
      "1238  euthanized\n",
      "1239       lived\n",
      "...          ...\n",
      "2054        died\n",
      "2055  euthanized\n",
      "2056        died\n",
      "2057       lived\n",
      "2058       lived\n",
      "\n",
      "[824 rows x 1 columns]\n"
     ]
    }
   ],
   "source": [
    "# Create a result DataFrame with indices\n",
    "result_df = pd.DataFrame({'outcome': y_pred_names})\n",
    "if 'id' in test.columns:\n",
    "    result_df['id'] = test['id']\n",
    "result_df.set_index('id', inplace=True)\n",
    "\n",
    "# Save the result DataFrame to a CSV file\n",
    "result_df.to_csv('final.csv')\n",
    "\n",
    "# Display the result DataFrame\n",
    "print(result_df)"
   ]
  },
  {
   "cell_type": "code",
   "execution_count": null,
   "id": "8c83dafd",
   "metadata": {
    "_cell_guid": "ae48cabb-1804-4f5f-ba6f-794d74edc6d4",
    "_uuid": "7c7849fb-cc6a-4410-a812-b5295c5f13fc",
    "collapsed": false,
    "jupyter": {
     "outputs_hidden": false
    },
    "papermill": {
     "duration": 0.009858,
     "end_time": "2023-11-16T09:17:50.440042",
     "exception": false,
     "start_time": "2023-11-16T09:17:50.430184",
     "status": "completed"
    },
    "tags": []
   },
   "outputs": [],
   "source": []
  }
 ],
 "metadata": {
  "kaggle": {
   "accelerator": "none",
   "dataSources": [
    {
     "databundleVersionId": 7044026,
     "sourceId": 64234,
     "sourceType": "competition"
    }
   ],
   "dockerImageVersionId": 30579,
   "isGpuEnabled": false,
   "isInternetEnabled": true,
   "language": "python",
   "sourceType": "notebook"
  },
  "kernelspec": {
   "display_name": "Python 3",
   "language": "python",
   "name": "python3"
  },
  "language_info": {
   "codemirror_mode": {
    "name": "ipython",
    "version": 3
   },
   "file_extension": ".py",
   "mimetype": "text/x-python",
   "name": "python",
   "nbconvert_exporter": "python",
   "pygments_lexer": "ipython3",
   "version": "3.10.12"
  },
  "papermill": {
   "default_parameters": {},
   "duration": 57.532791,
   "end_time": "2023-11-16T09:17:51.071261",
   "environment_variables": {},
   "exception": null,
   "input_path": "__notebook__.ipynb",
   "output_path": "__notebook__.ipynb",
   "parameters": {},
   "start_time": "2023-11-16T09:16:53.538470",
   "version": "2.4.0"
  }
 },
 "nbformat": 4,
 "nbformat_minor": 5
}
